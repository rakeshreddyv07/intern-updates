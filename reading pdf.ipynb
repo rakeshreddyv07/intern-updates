{
 "cells": [
  {
   "cell_type": "code",
   "execution_count": 10,
   "id": "79611c20-d5a0-4e4f-a3f7-ce684bd94e52",
   "metadata": {},
   "outputs": [
    {
     "name": "stdin",
     "output_type": "stream",
     "text": [
      "Enter the search word:  this\n"
     ]
    },
    {
     "name": "stdout",
     "output_type": "stream",
     "text": [
      "Found 'this' on page 1\n",
      "Total occurrences of 'this': 2\n",
      "Our search is done'this' was found sucessfully 2 times.\n"
     ]
    }
   ],
   "source": [
    "import PyPDF3\n",
    "def search(file, search_word):\n",
    "\n",
    "    #  rb is used like the pdf file will be opened in binary \n",
    "    \n",
    "    with open(file, 'rb') as pdf_file:\n",
    "      pdf_read = PyPDF3.PdfFileRead(pdf_file)\n",
    "\n",
    "      # no of pages\n",
    "      number_pages = pdf_read.getNumPages()\n",
    "\n",
    "      # Search for the word in each page\n",
    "      word_count = 0\n",
    "      for page_number in range(number_pages):\n",
    "          \n",
    "        page_object = pdf_read.getPage(page_number)\n",
    "        page_text = page_object.extractText()\n",
    "\n",
    "\n",
    "          \n",
    "        if search_word.lower() in page_text.lower():\n",
    "          # here we are making the whole txt into the lower case letters \n",
    "            \n",
    "          word_count += page_text.lower().count(search_word.lower()) \n",
    "            # counting\n",
    "          print(f\"Found '{search_word}' sucessfully on page number{page_number + 1} in this pdf file .\")  \n",
    "\n",
    "      print(f\"Total repeated of '{search_word}': {word_count}\")\n",
    "      return word_count\n",
    "\n",
    "filename = 'C:/Users/Rakesh Reddy V/Desktop/test.pdf'  #like we should place our pdf path \n",
    "search_word = input(\"Enter the search word: \")\n",
    "\n",
    "num_occurrences = search_pdf(filename, search_word)\n",
    "\n",
    "\n",
    "if num_occurrences > 0:\n",
    "    print(f\"Our search is done'{search_word}' was found sucessfully {num_occurrences} times.\")\n",
    "else:\n",
    "    print(f\"Our search is done '{search_word}' was not there in the this PDF file .\")\n",
    " \n"
   ]
  },
  {
   "cell_type": "code",
   "execution_count": null,
   "id": "a04465f1-83cb-44cd-bc0d-c7bae1237499",
   "metadata": {},
   "outputs": [],
   "source": [
    "\n"
   ]
  },
  {
   "cell_type": "code",
   "execution_count": null,
   "id": "21b9cc2a-5ffa-4c95-9191-9480132d5c7b",
   "metadata": {},
   "outputs": [],
   "source": []
  }
 ],
 "metadata": {
  "kernelspec": {
   "display_name": "Python 3 (ipykernel)",
   "language": "python",
   "name": "python3"
  },
  "language_info": {
   "codemirror_mode": {
    "name": "ipython",
    "version": 3
   },
   "file_extension": ".py",
   "mimetype": "text/x-python",
   "name": "python",
   "nbconvert_exporter": "python",
   "pygments_lexer": "ipython3",
   "version": "3.11.7"
  }
 },
 "nbformat": 4,
 "nbformat_minor": 5
}

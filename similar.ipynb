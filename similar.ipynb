{
 "cells": [
  {
   "cell_type": "code",
   "execution_count": 1,
   "id": "ac7ee7f4-7b39-46cd-be5b-4e02520f65e3",
   "metadata": {},
   "outputs": [
    {
     "name": "stdin",
     "output_type": "stream",
     "text": [
      "Enter a word to find synonyms and similar words (or 'done' to exit):  one\n"
     ]
    },
    {
     "name": "stdout",
     "output_type": "stream",
     "text": [
      "Synonyms and related words of 'one':\n",
      "{'i', 'unitary', 'I', 'nonpareil', 'peerless', 'unmatchable', 'unrivaled', 'single', 'one', 'unity', 'ane', 'matchless', 'unmatched', 'unrivalled', '1', 'ace', 'one_and_only'}\n",
      "\n",
      "Synonyms found in the PDF:\n",
      "'i' found in the following locations:\n",
      "  - Page 1, Paragraph 1\n",
      "'I' found in the following locations:\n",
      "  - Page 1, Paragraph 1\n",
      "'one' found in the following locations:\n",
      "  - Page 1, Paragraph 1\n",
      "'unity' found in the following locations:\n",
      "  - Page 1, Paragraph 1\n",
      "'ane' found in the following locations:\n",
      "  - Page 1, Paragraph 1\n",
      "'ace' found in the following locations:\n",
      "  - Page 1, Paragraph 1\n"
     ]
    },
    {
     "name": "stdin",
     "output_type": "stream",
     "text": [
      "Enter a word to find synonyms and similar words (or 'done' to exit):  done\n"
     ]
    },
    {
     "name": "stdout",
     "output_type": "stream",
     "text": [
      "Now we are exiting the program.\n"
     ]
    }
   ],
   "source": [
    "import fitz  # it is a part like in pymupdf\n",
    "from nltk.corpus import wordnet\n",
    "\n",
    "def find_related_words(word):\n",
    "    synonyms = set()\n",
    "\n",
    "    for syn in wordnet.synsets(word):\n",
    "        for lemma in syn.lemmas():\n",
    "            synonyms.add(lemma.name())\n",
    "\n",
    "    return synonyms\n",
    "\n",
    "def search_synonyms_in_pdf(synonyms, pdf_path):\n",
    "    found_words = {}\n",
    "\n",
    "    doc = fitz.open(pdf_path)\n",
    "\n",
    "    for page_number in range(len(doc)):\n",
    "        page = doc.load_page(page_number)\n",
    "        page_text = page.get_text()\n",
    "\n",
    "        paragraphs = page_text.split('\\n\\n')  #/n/n is like paragraphs\n",
    "        #.split is for like we are spliting \n",
    "        for paragraph_number, paragraph in enumerate(paragraphs):\n",
    "            for word in synonyms:\n",
    "                if word.lower() in paragraph.lower():      #.lower we are converting into lower\n",
    "                    if word not in found_words:\n",
    "                        found_words[word] = []\n",
    "                    found_words[word].append((page_number + 1, paragraph_number + 1))        #append is like adding \n",
    "\n",
    "    doc.close()\n",
    "\n",
    "    return found_words\n",
    "\n",
    "def main():\n",
    "    while True:\n",
    "        searching_word = input(\"Enter a word to find synonyms and similar words (or 'done' to exit): \")\n",
    "\n",
    "        if searching_word.lower() == 'done':\n",
    "            print(\"Now we are exiting the program.\") #After we are done the code will exit here loop is going to break \n",
    "        \n",
    "            break\n",
    "\n",
    "        synonyms = find_related_words(searching_word)\n",
    "\n",
    "        if synonyms:\n",
    "            print(f\"Synonyms and related words of '{searching_word}':\")\n",
    "            print(synonyms)\n",
    "\n",
    "            pdf_path = \"C:/Users/Rakesh Reddy V/Downloads/test.pdf\" #given the pdf file path here\n",
    "            found_in_pdf = search_synonyms_in_pdf(synonyms, pdf_path)\n",
    "\n",
    "            if found_in_pdf:\n",
    "                print(f\"\\nSynonyms found in the PDF:\")\n",
    "                for word, locations in found_in_pdf.items():\n",
    "                    print(f\"'{word}' found in this location:\")\n",
    "                    for page_num, para_num in locations:\n",
    "                        print(f\"  - Page number {page_num}, Paragraph number {para_num}\")\n",
    "            else:\n",
    "                print(\"\\nNo These are the synonyms found in this  PDF file.\")\n",
    "        else:\n",
    "            print(f\"No synonyms found for '{searching_word}' in WordNet library.\")\n",
    "\n",
    "if __name__ == \"__main__\":\n",
    "    main()\n"
   ]
  },
  {
   "cell_type": "code",
   "execution_count": null,
   "id": "e26e589e-d699-4231-803f-c1bd1b944649",
   "metadata": {},
   "outputs": [],
   "source": []
  }
 ],
 "metadata": {
  "kernelspec": {
   "display_name": "Python 3 (ipykernel)",
   "language": "python",
   "name": "python3"
  },
  "language_info": {
   "codemirror_mode": {
    "name": "ipython",
    "version": 3
   },
   "file_extension": ".py",
   "mimetype": "text/x-python",
   "name": "python",
   "nbconvert_exporter": "python",
   "pygments_lexer": "ipython3",
   "version": "3.11.7"
  }
 },
 "nbformat": 4,
 "nbformat_minor": 5
}

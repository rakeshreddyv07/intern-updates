{
 "cells": [
  {
   "cell_type": "code",
   "execution_count": null,
   "id": "f42f6183-40ac-4d79-b22c-2e9df2cb5f3f",
   "metadata": {},
   "outputs": [],
   "source": [
    "import nltk\n",
    "from nltk.corpus import wordnet\n",
    "\n",
    "\n",
    "def finding_words(word):\n",
    "    synonyms= set()\n",
    "\n",
    "    for syn in wordnet.synsets(word):\n",
    "\n",
    "\n",
    "        \n",
    "        for lemma in syn.lemmas():\n",
    "            synonyms.add(lemma.name())\n",
    "\n",
    "    return synonyms\n",
    "\n",
    "\n",
    "def main():\n",
    "    searching = input(\"Enter the input a word for searching synonyms etc.: \")\n",
    "\n",
    "    synonyms= finding_words(searching)\n",
    "\n",
    "    if synonyms:\n",
    "        print(f\"some Synonyms and related(similar) words of '{searching}':\")\n",
    "        print(synonyms)\n",
    "\n",
    "    \n",
    "    else:\n",
    "        print(f\"No synonyms found for '{searching} here.\")\n",
    "\n",
    "\n",
    "\n",
    "if __name__ == \"__main__\":\n",
    "            main()"
   ]
  },
  {
   "cell_type": "code",
   "execution_count": null,
   "id": "5207b935-cd74-486b-b9cb-bc8eb19c15c8",
   "metadata": {},
   "outputs": [],
   "source": []
  }
 ],
 "metadata": {
  "kernelspec": {
   "display_name": "Python 3 (ipykernel)",
   "language": "python",
   "name": "python3"
  },
  "language_info": {
   "codemirror_mode": {
    "name": "ipython",
    "version": 3
   },
   "file_extension": ".py",
   "mimetype": "text/x-python",
   "name": "python",
   "nbconvert_exporter": "python",
   "pygments_lexer": "ipython3",
   "version": "3.11.7"
  }
 },
 "nbformat": 4,
 "nbformat_minor": 5
}

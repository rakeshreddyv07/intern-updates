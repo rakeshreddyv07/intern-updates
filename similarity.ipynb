{
 "cells": [
  {
   "cell_type": "code",
   "execution_count": 14,
   "id": "ceded44c-a67a-4443-85b2-41c94c018af9",
   "metadata": {},
   "outputs": [
    {
     "name": "stdin",
     "output_type": "stream",
     "text": [
      "Enter a word to find synonyms and similar words (or 'done' to exit):  one\n"
     ]
    },
    {
     "name": "stdout",
     "output_type": "stream",
     "text": [
      "Synonyms and related words of 'one':\n",
      "{'unity', 'unrivaled', 'ace', 'peerless', 'single', 'one_and_only', 'matchless', 'ane', 'nonpareil', 'unmatched', 'unmatchable', 'i', '1', 'unrivalled', 'one', 'I', 'unitary'}\n",
      "\n",
      " this are the Synonyms found in this PDF file:\n",
      "{'unity', 'ace', 'ane', 'i', 'one', 'I'}\n"
     ]
    },
    {
     "name": "stdin",
     "output_type": "stream",
     "text": [
      "Enter a word to find synonyms and similar words (or 'done' to exit):  done\n"
     ]
    },
    {
     "name": "stdout",
     "output_type": "stream",
     "text": [
      "Now we Exiting the program.\n"
     ]
    }
   ],
   "source": [
    "import fitz  # PyMuPDF\n",
    "from nltk.corpus import wordnet\n",
    "\n",
    "def find_related_words(word):\n",
    "    synonyms = set()\n",
    "\n",
    "    for syn in wordnet.synsets(word):\n",
    "        for lemma in syn.lemmas():\n",
    "            synonyms.add(lemma.name())\n",
    "\n",
    "    return synonyms\n",
    "\n",
    "\n",
    "def search_synonyms_in_pdf(synonyms, pdf_path):\n",
    "    found_words = set()\n",
    "\n",
    "   \n",
    "    doc = fitz.open(pdf_path)\n",
    "\n",
    "    for page_number in range(len(doc)):\n",
    "        page = doc.load_page(page_number)\n",
    "        page_text = page.get_text()\n",
    "\n",
    "        # finding each synonyms in the text\n",
    "        for word in synonyms:\n",
    "            if word.lower() in page_text.lower():   #.lower we are converting into lower\n",
    "                found_words.add(word)\n",
    "\n",
    "    doc.close()\n",
    "\n",
    "    return found_words\n",
    "\n",
    "\n",
    "def main():\n",
    "    while True:\n",
    "        searching_word = input(\"Enter a word to find synonyms and similar words (or 'done' to exit): \")\n",
    "\n",
    "        if searching_word.lower() == 'done':\n",
    "            print(\"Now we Exiting the program.\")#After we are done the code will exit here loop is going to break \n",
    "            break\n",
    "\n",
    "        synonyms = find_related_words(searching_word)\n",
    "\n",
    "        if synonyms:\n",
    "            print(f\"Synonyms and related words of '{searching_word}':\")\n",
    "            print(synonyms)\n",
    "\n",
    "            pdf_path = \"C:/Users/Rakesh Reddy V/Downloads/test.pdf\"#given the pdf file path here \n",
    "            found_in_pdf = search_synonyms_in_pdf(synonyms, pdf_path)\n",
    "\n",
    "            if found_in_pdf:\n",
    "                print(f\"\\n this are the Synonyms found in this PDF file:\")\n",
    "                print(found_in_pdf)\n",
    "            else:\n",
    "                print(\"\\n No synonyms are found in this PDF file.\")\n",
    "        else:\n",
    "            print(f\"No synonyms found for '{searching_word}' in WordNet library.\")\n",
    "\n",
    "if __name__ == \"__main__\":\n",
    "    main()\n"
   ]
  },
  {
   "cell_type": "code",
   "execution_count": null,
   "id": "ce25d364-6648-458d-9978-ab4014698776",
   "metadata": {},
   "outputs": [],
   "source": []
  }
 ],
 "metadata": {
  "kernelspec": {
   "display_name": "Python 3 (ipykernel)",
   "language": "python",
   "name": "python3"
  },
  "language_info": {
   "codemirror_mode": {
    "name": "ipython",
    "version": 3
   },
   "file_extension": ".py",
   "mimetype": "text/x-python",
   "name": "python",
   "nbconvert_exporter": "python",
   "pygments_lexer": "ipython3",
   "version": "3.11.7"
  }
 },
 "nbformat": 4,
 "nbformat_minor": 5
}
